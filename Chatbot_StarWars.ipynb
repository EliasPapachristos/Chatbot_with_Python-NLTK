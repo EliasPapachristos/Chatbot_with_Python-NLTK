{
 "cells": [
  {
   "cell_type": "code",
   "execution_count": 1,
   "metadata": {},
   "outputs": [],
   "source": [
    "import nltk\n",
    "import numpy as np\n",
    "import random\n",
    "import string"
   ]
  },
  {
   "cell_type": "markdown",
   "metadata": {},
   "source": [
    "Make a file and paste the text you want. I took the Star Wars from wikipedia. The more text you put, the more questions you can make and have answers back."
   ]
  },
  {
   "cell_type": "code",
   "execution_count": 2,
   "metadata": {},
   "outputs": [
    {
     "name": "stdout",
     "output_type": "stream",
     "text": [
      "[nltk_data] Downloading package punkt to\n",
      "[nltk_data]     C:\\Users\\elias\\AppData\\Roaming\\nltk_data...\n",
      "[nltk_data]   Package punkt is already up-to-date!\n",
      "[nltk_data] Downloading package wordnet to\n",
      "[nltk_data]     C:\\Users\\elias\\AppData\\Roaming\\nltk_data...\n",
      "[nltk_data]   Package wordnet is already up-to-date!\n"
     ]
    }
   ],
   "source": [
    "elp = open('star_wars.txt', 'r', errors= 'ignore')\n",
    "\n",
    "raw = elp.read()\n",
    "\n",
    "raw = raw.lower()\n",
    "\n",
    "nltk.download('punkt')\n",
    "nltk.download('wordnet')\n",
    "\n",
    "sent_token = nltk.sent_tokenize(raw)\n",
    "word_token = nltk.word_tokenize(raw)"
   ]
  },
  {
   "cell_type": "markdown",
   "metadata": {},
   "source": [
    "### Sent tokens"
   ]
  },
  {
   "cell_type": "code",
   "execution_count": 3,
   "metadata": {},
   "outputs": [
    {
     "data": {
      "text/plain": [
       "['star wars is an american-produced epic space opera franchise, created by george lucas and centered around a film series that began with the eponymous 1977 movie.',\n",
       " 'the saga quickly became a worldwide pop culture phenomenon.']"
      ]
     },
     "execution_count": 3,
     "metadata": {},
     "output_type": "execute_result"
    }
   ],
   "source": [
    "sent_token[:2]"
   ]
  },
  {
   "cell_type": "markdown",
   "metadata": {},
   "source": [
    "### Word tokens"
   ]
  },
  {
   "cell_type": "code",
   "execution_count": 4,
   "metadata": {},
   "outputs": [
    {
     "data": {
      "text/plain": [
       "['star', 'wars']"
      ]
     },
     "execution_count": 4,
     "metadata": {},
     "output_type": "execute_result"
    }
   ],
   "source": [
    "word_token[:2]"
   ]
  },
  {
   "cell_type": "code",
   "execution_count": 5,
   "metadata": {},
   "outputs": [],
   "source": [
    "lemmer = nltk.stem.WordNetLemmatizer()\n",
    "\n",
    "def lemmer_tokens(tokens):\n",
    "    return[lemmer.lemmatize(token) for token in tokens]\n",
    "\n",
    "remove_punct = dict((ord(punct), None) for punct in string.punctuation)\n",
    "\n",
    "def lemmer_normalize(text):\n",
    "    return lemmer_tokens(nltk.word_tokenize(text.lower().translate(remove_punct)))"
   ]
  },
  {
   "cell_type": "markdown",
   "metadata": {},
   "source": [
    "__GREETING_INPUT__ you can write as many as you can imagine that your user might write.\n",
    "\n",
    "__GREETING_RESPONSE__ is what your chatbot want you to say."
   ]
  },
  {
   "cell_type": "code",
   "execution_count": 6,
   "metadata": {},
   "outputs": [],
   "source": [
    "GREETING_INPUT = ('hi', 'hello', 'hey', 'what\\'s up dude!', 'greetings my friend')\n",
    "\n",
    "GREETING_RESPONSE = ['Are you talking to me?', 'hey dude, nice to hear you', 'yo my man!']\n",
    "\n",
    "def greeting(sentence):\n",
    "    for word in sentence.split():\n",
    "        if word.lower() in GREETING_INPUT:\n",
    "            return random.choice(GREETING_RESPONSE)"
   ]
  },
  {
   "cell_type": "markdown",
   "metadata": {},
   "source": [
    "### Generating Response"
   ]
  },
  {
   "cell_type": "code",
   "execution_count": 7,
   "metadata": {},
   "outputs": [],
   "source": [
    "from sklearn.feature_extraction.text import TfidfVectorizer\n",
    "from sklearn.metrics.pairwise import cosine_similarity"
   ]
  },
  {
   "cell_type": "code",
   "execution_count": 8,
   "metadata": {},
   "outputs": [],
   "source": [
    "def response(user_response):\n",
    "    yuki_response = ''\n",
    "    \n",
    "    TfidfVec = TfidfVectorizer(tokenizer = lemmer_normalize, stop_words = 'english')\n",
    "\n",
    "    tfidf = TfidfVec.fit_transform(sent_token)\n",
    "    vals = cosine_similarity(tfidf[-1], tfidf)\n",
    "    idx = vals.argsort()[0][-2]\n",
    "    flat = vals.flatten()\n",
    "    flat.sort()\n",
    "    req_tfidf = flat[-2]\n",
    "\n",
    "    if(req_tfidf == 0):\n",
    "        yuki_response = yuki_response + \"Understand you, I can't! Write clearer you must!\" \n",
    "        return yuki_response\n",
    "    else:\n",
    "        yuki_response = yuki_response + sent_token[idx] \n",
    "        return yuki_response"
   ]
  },
  {
   "cell_type": "markdown",
   "metadata": {},
   "source": [
    "All the above sells will run and you'll see their number next to them.\n",
    "\n",
    "This cell will have an asterisk * until you say __bye__"
   ]
  },
  {
   "cell_type": "code",
   "execution_count": 9,
   "metadata": {},
   "outputs": [
    {
     "name": "stdout",
     "output_type": "stream",
     "text": [
      "Yuki: My name is Yuki. I will answer your queries about Star Wars. If you want to exit, type Bye!\n",
      "bye\n",
      "Yuki: Bye! take care..\n"
     ]
    }
   ],
   "source": [
    "flag=True\n",
    "\n",
    "print(\"Yuki: My name is Yuki. I will answer your queries about Star Wars. If you want to exit, type Bye!\")\n",
    "while(flag == True):\n",
    "    user_response = input()\n",
    "    user_response = user_response.lower()\n",
    "    if(user_response != 'bye'):\n",
    "        if(user_response == 'thanks' or user_response == 'thank you' ):\n",
    "            flag = False\n",
    "            print(\"Yuki: You are welcome..\")\n",
    "        else:\n",
    "            if(greeting(user_response) != None):\n",
    "                print(\"Yuki: \" + greeting(user_response))\n",
    "            else:\n",
    "                sent_token.append(user_response)\n",
    "                word_token = word_token + nltk.word_tokenize(user_response)\n",
    "                final_words = list(set(word_token))\n",
    "                print(\"Yuki: \",end = \"\")\n",
    "                print(response(user_response))\n",
    "                sent_token.remove(user_response)\n",
    "    else:\n",
    "        flag = False\n",
    "        print(\"Yuki: Bye! take care..\")"
   ]
  },
  {
   "cell_type": "code",
   "execution_count": null,
   "metadata": {},
   "outputs": [],
   "source": []
  }
 ],
 "metadata": {
  "kernelspec": {
   "display_name": "Python 3",
   "language": "python",
   "name": "python3"
  },
  "language_info": {
   "codemirror_mode": {
    "name": "ipython",
    "version": 3
   },
   "file_extension": ".py",
   "mimetype": "text/x-python",
   "name": "python",
   "nbconvert_exporter": "python",
   "pygments_lexer": "ipython3",
   "version": "3.6.6"
  }
 },
 "nbformat": 4,
 "nbformat_minor": 2
}
